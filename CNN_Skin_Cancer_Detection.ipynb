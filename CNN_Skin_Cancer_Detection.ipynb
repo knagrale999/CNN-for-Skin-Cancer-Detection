{
  "nbformat": 4,
  "nbformat_minor": 0,
  "metadata": {
    "colab": {
      "name": "CNN Skin Cancer Detection.ipynb",
      "provenance": []
    },
    "kernelspec": {
      "name": "python3",
      "display_name": "Python 3"
    },
    "language_info": {
      "name": "python"
    }
  },
  "cells": [
    {
      "cell_type": "code",
      "metadata": {
        "id": "4_nLJBEhfXyx"
      },
      "source": [
        "import pandas as pd\n",
        "import numpy as np\n",
        "from keras.models import Sequential\n",
        "from keras import optimizers\n",
        "from keras.layers import Dense, Conv2D, Dropout, Flatten, MaxPooling2D\n",
        "from keras.applications import ResNet50"
      ],
      "execution_count": null,
      "outputs": []
    },
    {
      "cell_type": "code",
      "metadata": {
        "id": "Ihp3dqhqnQC6"
      },
      "source": [
        "base_model= ResNet50(include_top=False, weights=\"imagenet\", input_shape=(224,224,3))"
      ],
      "execution_count": null,
      "outputs": []
    },
    {
      "cell_type": "code",
      "metadata": {
        "id": "FrWB9cEznTTo"
      },
      "source": [
        "model= Sequential()\n",
        "model.add(base_model)\n",
        "model.add(Conv2D(64, (3, 3), activation = 'relu'))\n",
        "#model.add(MaxPooling2D(pool_size = (2, 2)))\n",
        "model.add(Dropout(0.40))\n",
        "model.add(Conv2D(64, (3, 3), activation = 'relu'))\n",
        "model.add(MaxPooling2D(pool_size = (2, 2)))\n",
        "model.add(Dropout(0.40))\n",
        "model.add(Flatten())\n",
        "model.add(Dense(512,activation='relu'))\n",
        "model.add(Dropout(0.4))\n",
        "model.add(Dense(2, activation='softmax'))"
      ],
      "execution_count": null,
      "outputs": []
    },
    {
      "cell_type": "code",
      "metadata": {
        "id": "XSA78ePjnXD-"
      },
      "source": [
        "from keras import optimizers\n",
        "from keras_preprocessing.image import ImageDataGenerator\n",
        "train_generator = ImageDataGenerator(rescale = 1./255,\n",
        "                                     rotation_range=10,  \n",
        "                                     zoom_range = 0.1, \n",
        "                                     width_shift_range=0.1,  height_shift_range=0.1) \n",
        "test_generator = ImageDataGenerator(rescale = 1./255)"
      ],
      "execution_count": null,
      "outputs": []
    },
    {
      "cell_type": "code",
      "metadata": {
        "id": "Dt0uZUutnZpF"
      },
      "source": [
        "training_set = train_generator.flow_from_directory('../input/data/train',\n",
        "                                                 target_size = (224,224),\n",
        "                                                 batch_size = 64,\n",
        "                                                 class_mode = 'categorical')\n",
        "\n",
        "test_set = test_generator.flow_from_directory('../input/data/test',\n",
        "                                            target_size = (224, 224),\n",
        "                                            batch_size = 64,\n",
        "                                            class_mode = 'categorical',\n",
        "                                            shuffle=False)"
      ],
      "execution_count": null,
      "outputs": []
    },
    {
      "cell_type": "code",
      "metadata": {
        "id": "hHsVOTq5neR3"
      },
      "source": [
        "model.compile(optimizer=optimizers.adam(lr=0.0001),loss=\"categorical_crossentropy\",metrics=[\"accuracy\"])"
      ],
      "execution_count": null,
      "outputs": []
    },
    {
      "cell_type": "code",
      "metadata": {
        "id": "kofWnNyInhra"
      },
      "source": [
        "from keras.callbacks import ReduceLROnPlateau\n",
        "learn_control = ReduceLROnPlateau(monitor='val_acc', patience=3, verbose=1, factor=.5, min_lr=0.0001)"
      ],
      "execution_count": null,
      "outputs": []
    },
    {
      "cell_type": "code",
      "metadata": {
        "id": "peDw8ixonnHy"
      },
      "source": [
        "model.fit_generator(generator=training_set,\n",
        "                            steps_per_epoch=training_set.samples//training_set.batch_size,\n",
        "                            validation_data=test_set,\n",
        "                            verbose=1,\n",
        "                            validation_steps=test_set.samples//test_set.batch_size,\n",
        "                            epochs=27,callbacks=[learn_control])"
      ],
      "execution_count": null,
      "outputs": []
    },
    {
      "cell_type": "code",
      "metadata": {
        "id": "pEU4iv9snqyu"
      },
      "source": [
        "test_set.reset()\n",
        "predictions = model.predict_generator(test_set, steps=test_set.samples/test_set.batch_size,verbose=1)\n",
        "y_pred= np.argmax(predictions, axis=1)\n",
        "\n",
        "print(y_pred)"
      ],
      "execution_count": null,
      "outputs": []
    },
    {
      "cell_type": "code",
      "metadata": {
        "id": "WzIs7Znknuek"
      },
      "source": [
        "y_test=np.array([])\n",
        "for i in range(360):\n",
        "    y_test=np.append(y_test,0)\n",
        "for i in range(300):\n",
        "    y_test=np.append(y_test,1)"
      ],
      "execution_count": null,
      "outputs": []
    },
    {
      "cell_type": "code",
      "metadata": {
        "id": "a9Omyg9znxYg"
      },
      "source": [
        "from sklearn.metrics import confusion_matrix \n",
        "cm= confusion_matrix(y_test,y_pred)"
      ],
      "execution_count": null,
      "outputs": []
    },
    {
      "cell_type": "code",
      "metadata": {
        "id": "bhmc_HKUnydy"
      },
      "source": [
        "print(cm)"
      ],
      "execution_count": null,
      "outputs": []
    }
  ]
}